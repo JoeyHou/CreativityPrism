{
 "cells": [
  {
   "cell_type": "code",
   "execution_count": 3,
   "id": "b4071c9c-ad82-4e9a-9caa-34f70c1be400",
   "metadata": {
    "tags": []
   },
   "outputs": [],
   "source": [
    "import sys\n",
    "import json\n",
    "import os \n",
    "\n",
    "import numpy as np\n",
    "import pandas as pd\n",
    "# from sklearn.metrics import accuracy_score, f1_score\n",
    "# from scipy.stats import pearsonr\n",
    "# proj_dir = \"/ix1/xli/bkb45/joey_files/creative_bench/\"\n",
    "# sys.path.insert(1, proj_dir + '../src/utils/')\n",
    "\n",
    "# from helpers import load_json\n",
    "\n",
    "import json\n",
    "\n",
    "def load_json(filename):\n",
    "    \"\"\"\n",
    "    Load a JSON file given a filename\n",
    "    If the file doesn't exist, then return an empty dictionary instead\n",
    "    \"\"\"\n",
    "    try:\n",
    "        with open(filename, 'r') as f:\n",
    "            return json.load(f)\n",
    "    except FileNotFoundError:\n",
    "        return {}"
   ]
  },
  {
   "cell_type": "code",
   "execution_count": 2,
   "id": "62db03b6-18dd-46ef-a176-37dab8707d65",
   "metadata": {},
   "outputs": [
    {
     "name": "stdout",
     "output_type": "stream",
     "text": [
      "Defaulting to user installation because normal site-packages is not writeable\n",
      "Collecting pandas\n",
      "  Downloading pandas-2.2.3-cp310-cp310-manylinux_2_17_x86_64.manylinux2014_x86_64.whl (13.1 MB)\n",
      "\u001b[2K     \u001b[90m━━━━━━━━━━━━━━━━━━━━━━━━━━━━━━━━━━━━━━━━\u001b[0m \u001b[32m13.1/13.1 MB\u001b[0m \u001b[31m93.0 MB/s\u001b[0m eta \u001b[36m0:00:00\u001b[0m00:01\u001b[0m00:01\u001b[0m\n",
      "\u001b[?25hCollecting pytz>=2020.1\n",
      "  Downloading pytz-2025.2-py2.py3-none-any.whl (509 kB)\n",
      "\u001b[2K     \u001b[90m━━━━━━━━━━━━━━━━━━━━━━━━━━━━━━━━━━━━━━\u001b[0m \u001b[32m509.2/509.2 kB\u001b[0m \u001b[31m31.6 MB/s\u001b[0m eta \u001b[36m0:00:00\u001b[0m\n",
      "\u001b[?25hRequirement already satisfied: python-dateutil>=2.8.2 in /ihome/crc/install/pytorch/2.0.1/python3.10/lib/python3.10/site-packages (from pandas) (2.8.2)\n",
      "Collecting tzdata>=2022.7\n",
      "  Downloading tzdata-2025.2-py2.py3-none-any.whl (347 kB)\n",
      "\u001b[2K     \u001b[90m━━━━━━━━━━━━━━━━━━━━━━━━━━━━━━━━━━━━━━\u001b[0m \u001b[32m347.8/347.8 kB\u001b[0m \u001b[31m21.1 MB/s\u001b[0m eta \u001b[36m0:00:00\u001b[0m\n",
      "\u001b[?25hRequirement already satisfied: numpy>=1.22.4 in /ihome/crc/install/pytorch/2.0.1/python3.10/lib/python3.10/site-packages (from pandas) (1.24.1)\n",
      "Requirement already satisfied: six>=1.5 in /ihome/crc/install/pytorch/2.0.1/python3.10/lib/python3.10/site-packages (from python-dateutil>=2.8.2->pandas) (1.16.0)\n",
      "Installing collected packages: pytz, tzdata, pandas\n",
      "Successfully installed pandas-2.2.3 pytz-2025.2 tzdata-2025.2\n"
     ]
    }
   ],
   "source": [
    "# !pip install pandas "
   ]
  },
  {
   "cell_type": "markdown",
   "id": "dbe5c733-729d-42c2-88ad-b189679c1262",
   "metadata": {
    "jp-MarkdownHeadingCollapsed": true,
    "tags": []
   },
   "source": [
    "# 1. Evaluator Check"
   ]
  },
  {
   "cell_type": "code",
   "execution_count": 20,
   "id": "98280811-efe9-495e-9077-58162cbca49d",
   "metadata": {
    "tags": []
   },
   "outputs": [],
   "source": [
    "curr_dir = '../'\n",
    "\n",
    "aut_gpt4o_eval = load_json(curr_dir + 'data/output/aut_evaluator_check/gpt4o/eval_output_cleaned.json')\n",
    "aut_qwen32_eval = load_json(curr_dir + 'data/output/aut_evaluator_check/qwen_72b/eval_output_cleaned.json')"
   ]
  },
  {
   "cell_type": "code",
   "execution_count": 9,
   "id": "306bffbc-7742-4691-9efb-ff5f7893d7f2",
   "metadata": {},
   "outputs": [],
   "source": [
    "all_gpt_pred = []\n",
    "all_qwen_pred = []\n",
    "for i in range(len(aut_gpt4o_eval)):\n",
    "    gpt_pred = aut_gpt4o_eval[i]['cleaned_output']\n",
    "    qwen_pred = aut_qwen32_eval[i]['cleaned_output']\n",
    "\n",
    "    tmp_pred = {}\n",
    "    for use, score in aut_qwen32_eval[i]['cleaned_output']:\n",
    "        tmp_pred[use] = [score]\n",
    "    for use, score in aut_gpt4o_eval[i]['cleaned_output']:\n",
    "        if use not in tmp_pred: continue \n",
    "        tmp_pred[use].append(score)\n",
    "\n",
    "    for use in tmp_pred:\n",
    "        if len(tmp_pred[use]) < 2: continue\n",
    "        all_gpt_pred.append(tmp_pred[use][1])\n",
    "        all_qwen_pred.append(tmp_pred[use][0])"
   ]
  },
  {
   "cell_type": "code",
   "execution_count": 10,
   "id": "e849b977-5c8a-4e78-a714-b75c33d07925",
   "metadata": {},
   "outputs": [
    {
     "data": {
      "text/plain": [
       "552"
      ]
     },
     "execution_count": 10,
     "metadata": {},
     "output_type": "execute_result"
    }
   ],
   "source": [
    "len(all_gpt_pred)"
   ]
  },
  {
   "cell_type": "code",
   "execution_count": 12,
   "id": "a80560c1-f068-4b97-a72c-86dfdc81a685",
   "metadata": {},
   "outputs": [
    {
     "data": {
      "text/plain": [
       "552"
      ]
     },
     "execution_count": 12,
     "metadata": {},
     "output_type": "execute_result"
    }
   ],
   "source": [
    "len(all_qwen_pred)"
   ]
  },
  {
   "cell_type": "code",
   "execution_count": 15,
   "id": "1a5d7838-4bd1-400d-b33a-7a83e38b5970",
   "metadata": {},
   "outputs": [
    {
     "data": {
      "text/plain": [
       "0.5969507092217958"
      ]
     },
     "execution_count": 15,
     "metadata": {},
     "output_type": "execute_result"
    }
   ],
   "source": [
    "pearsonr(all_gpt_pred, all_qwen_pred).statistic"
   ]
  },
  {
   "cell_type": "code",
   "execution_count": 17,
   "id": "eaad97f8-17c0-4e6c-bc0d-32ad710e03be",
   "metadata": {},
   "outputs": [
    {
     "data": {
      "text/plain": [
       "1.357916913986314e-54"
      ]
     },
     "execution_count": 17,
     "metadata": {},
     "output_type": "execute_result"
    }
   ],
   "source": [
    "pearsonr(all_gpt_pred, all_qwen_pred).pvalue"
   ]
  },
  {
   "cell_type": "code",
   "execution_count": 19,
   "id": "fa64ddab-c780-4b5c-88e0-f357ab4de409",
   "metadata": {},
   "outputs": [],
   "source": [
    "import seaborn as sns"
   ]
  },
  {
   "cell_type": "code",
   "execution_count": 24,
   "id": "b7782b02-4446-46f1-a27b-46c8dfbb1abb",
   "metadata": {},
   "outputs": [],
   "source": [
    "tmp_data = pd.DataFrame([\n",
    "    {\n",
    "        'model': 'gpt',\n",
    "        'pred': i\n",
    "    }\n",
    "    for i in all_gpt_pred\n",
    "] + [\n",
    "    {\n",
    "        'model': 'qwen',\n",
    "        'pred': i\n",
    "    }\n",
    "    for i in all_qwen_pred\n",
    "])"
   ]
  },
  {
   "cell_type": "code",
   "execution_count": 25,
   "id": "db6f9cea-b3ea-4a21-838c-55871379e65f",
   "metadata": {},
   "outputs": [
    {
     "data": {
      "text/plain": [
       "<seaborn.axisgrid.FacetGrid at 0x7fbe65cb5280>"
      ]
     },
     "execution_count": 25,
     "metadata": {},
     "output_type": "execute_result"
    },
    {
     "data": {
      "image/png": "[encoded data removed]",
      "text/plain": [
       "<Figure size 587.5x500 with 1 Axes>"
      ]
     },
     "metadata": {},
     "output_type": "display_data"
    }
   ],
   "source": [
    "sns.displot(data = tmp_data, x = 'pred', hue = 'model')"
   ]
  },
  {
   "cell_type": "code",
   "execution_count": 28,
   "id": "cdff2430-c129-4a2c-96e5-93a342b16581",
   "metadata": {},
   "outputs": [
    {
     "data": {
      "text/plain": [
       "<Axes: >"
      ]
     },
     "execution_count": 28,
     "metadata": {},
     "output_type": "execute_result"
    },
    {
     "data": {
      "image/png": "[encoded data removed]",
      "text/plain": [
       "<Figure size 640x480 with 1 Axes>"
      ]
     },
     "metadata": {},
     "output_type": "display_data"
    }
   ],
   "source": [
    "sns.scatterplot(x = all_gpt_pred, y = all_qwen_pred)"
   ]
  },
  {
   "cell_type": "markdown",
   "id": "a8083b75-ce01-40a3-93c2-460ffaf80b31",
   "metadata": {},
   "source": [
    "# 2. Model Performances"
   ]
  },
  {
   "cell_type": "code",
   "execution_count": 4,
   "id": "c11dc782-82bc-4464-aa71-5e8d75f9ba96",
   "metadata": {
    "tags": []
   },
   "outputs": [],
   "source": [
    "proj_dir = \"/ix1/xli/bkb45/joey_files/creative_bench\""
   ]
  },
  {
   "cell_type": "code",
   "execution_count": 14,
   "id": "eef86a30-b723-41b9-a46f-bd155d070cee",
   "metadata": {
    "tags": []
   },
   "outputs": [
    {
     "data": {
      "text/plain": [
       "['olmo_13b_dpo',\n",
       " 'claude_37_sonnet',\n",
       " 'deepseek_llama_70b',\n",
       " 'qwen_72b_instruct',\n",
       " 'qwen_7b_instruct',\n",
       " 'mistral_7b_instr',\n",
       " 'olmo_13b',\n",
       " 'llama3_8b_instr',\n",
       " 'gemini_2_flash',\n",
       " 'gpt_4.1',\n",
       " 'deepseek_r1',\n",
       " 'deepseek_v3',\n",
       " 'mixtral_8x7b',\n",
       " 'qwen_32b_instruct',\n",
       " 'olmo_7b',\n",
       " 'llama3_70b_instruct',\n",
       " 'deepseek_qwen_32b',\n",
       " 'mistral_small_24b',\n",
       " 'claude_3_haiku',\n",
       " 'olmo_13b_sft',\n",
       " 'gpt_4.1_mini',\n",
       " 'deepseek_qwen_7b']"
      ]
     },
     "execution_count": 14,
     "metadata": {},
     "output_type": "execute_result"
    }
   ],
   "source": [
    "batch_id = 'aut_tmp_var'\n",
    "batch_id = 'aut_v1_0'\n",
    "exclude_lst = [\n",
    "    'gemini_2_pro',\n",
    "    '__MACOSX'\n",
    "]\n",
    "\n",
    "output_dir = '{}/{}/{}/'.format(proj_dir, \"data/output/\", batch_id)\n",
    "model_lst = [m for m in os.listdir(output_dir) if os.path.isdir(output_dir + m) and m not in exclude_lst]\n",
    "\n",
    "model_lst"
   ]
  },
  {
   "cell_type": "code",
   "execution_count": 15,
   "id": "d6702e1c-322e-42b4-8635-7dc7c144d56d",
   "metadata": {
    "tags": []
   },
   "outputs": [],
   "source": [
    "# # result_dfs = []\n",
    "# # model_lst = [\n",
    "# #     'olmo_13b_dpo',\n",
    "# #     'olmo_13b_sft'\n",
    "# # ]\n",
    "# # batch_id = \"aut_tmp_var\"\n",
    "# skip_lst = [] #['qwen_32b_instruct']\n",
    "# for model in model_lst:\n",
    "#     if model in skip_lst: continue\n",
    "#     inference_results = load_json(\n",
    "#         '/ix1/xli/bkb45/joey_files/creative_bench/data/output/{}/{}/inference_output.json'.format(\n",
    "#             batch_id, model\n",
    "#         )\n",
    "#     )\n",
    "#     print(len(inference_results))"
   ]
  },
  {
   "cell_type": "code",
   "execution_count": null,
   "id": "aa0518f1-e182-4ff0-8044-8fc877d717e5",
   "metadata": {},
   "outputs": [],
   "source": []
  },
  {
   "cell_type": "code",
   "execution_count": null,
   "id": "257144d0-c08b-427a-8588-9d86046c7850",
   "metadata": {},
   "outputs": [],
   "source": []
  },
  {
   "cell_type": "code",
   "execution_count": 16,
   "id": "92e0facf-0dd6-4e52-8f04-6dc9ec3e95b2",
   "metadata": {
    "tags": []
   },
   "outputs": [],
   "source": [
    "result_dfs = []\n",
    "skip_lst = [] #['qwen_32b_instruct']\n",
    "for model in model_lst:\n",
    "    if model in skip_lst: continue\n",
    "    tmp_df = pd.read_csv(output_dir + model + '/eval_report.csv')\n",
    "    tmp_df['model'] = model\n",
    "    result_dfs.append(tmp_df)\n",
    "combined_df = pd.concat(result_dfs)\n",
    "# combined_df"
   ]
  },
  {
   "cell_type": "code",
   "execution_count": 17,
   "id": "02b58cec-83eb-4384-813a-955430e36b77",
   "metadata": {
    "tags": []
   },
   "outputs": [
    {
     "data": {
      "text/html": [
       "<div>\n",
       "<style scoped>\n",
       "    .dataframe tbody tr th:only-of-type {\n",
       "        vertical-align: middle;\n",
       "    }\n",
       "\n",
       "    .dataframe tbody tr th {\n",
       "        vertical-align: top;\n",
       "    }\n",
       "\n",
       "    .dataframe thead th {\n",
       "        text-align: right;\n",
       "    }\n",
       "</style>\n",
       "<table border=\"1\" class=\"dataframe\">\n",
       "  <thead>\n",
       "    <tr style=\"text-align: right;\">\n",
       "      <th></th>\n",
       "      <th>setting</th>\n",
       "      <th>avg</th>\n",
       "      <th>std</th>\n",
       "    </tr>\n",
       "    <tr>\n",
       "      <th>model</th>\n",
       "      <th></th>\n",
       "      <th></th>\n",
       "      <th></th>\n",
       "    </tr>\n",
       "  </thead>\n",
       "  <tbody>\n",
       "    <tr>\n",
       "      <th>olmo_13b_sft</th>\n",
       "      <td>bsrdel</td>\n",
       "      <td>2.92</td>\n",
       "      <td>0.65</td>\n",
       "    </tr>\n",
       "    <tr>\n",
       "      <th>deepseek_llama_70b</th>\n",
       "      <td>bsrdel</td>\n",
       "      <td>2.99</td>\n",
       "      <td>0.60</td>\n",
       "    </tr>\n",
       "    <tr>\n",
       "      <th>deepseek_qwen_32b</th>\n",
       "      <td>bsrdel</td>\n",
       "      <td>3.00</td>\n",
       "      <td>0.62</td>\n",
       "    </tr>\n",
       "    <tr>\n",
       "      <th>qwen_7b_instruct</th>\n",
       "      <td>bsrdel</td>\n",
       "      <td>3.01</td>\n",
       "      <td>0.74</td>\n",
       "    </tr>\n",
       "    <tr>\n",
       "      <th>mistral_small_24b</th>\n",
       "      <td>bsrdel</td>\n",
       "      <td>3.02</td>\n",
       "      <td>0.56</td>\n",
       "    </tr>\n",
       "    <tr>\n",
       "      <th>deepseek_qwen_7b</th>\n",
       "      <td>bsrdel</td>\n",
       "      <td>3.11</td>\n",
       "      <td>0.89</td>\n",
       "    </tr>\n",
       "    <tr>\n",
       "      <th>olmo_7b</th>\n",
       "      <td>bsrdel</td>\n",
       "      <td>3.12</td>\n",
       "      <td>0.41</td>\n",
       "    </tr>\n",
       "    <tr>\n",
       "      <th>llama3_8b_instr</th>\n",
       "      <td>bsrdel</td>\n",
       "      <td>3.16</td>\n",
       "      <td>0.74</td>\n",
       "    </tr>\n",
       "    <tr>\n",
       "      <th>qwen_72b_instruct</th>\n",
       "      <td>bsrde</td>\n",
       "      <td>3.18</td>\n",
       "      <td>0.45</td>\n",
       "    </tr>\n",
       "    <tr>\n",
       "      <th>deepseek_v3</th>\n",
       "      <td>bsrdel</td>\n",
       "      <td>3.22</td>\n",
       "      <td>0.49</td>\n",
       "    </tr>\n",
       "    <tr>\n",
       "      <th>gpt_4.1</th>\n",
       "      <td>bsrdel</td>\n",
       "      <td>3.25</td>\n",
       "      <td>0.66</td>\n",
       "    </tr>\n",
       "    <tr>\n",
       "      <th>deepseek_r1</th>\n",
       "      <td>bsrdel</td>\n",
       "      <td>3.26</td>\n",
       "      <td>0.56</td>\n",
       "    </tr>\n",
       "    <tr>\n",
       "      <th>claude_3_haiku</th>\n",
       "      <td>bsrdel</td>\n",
       "      <td>3.30</td>\n",
       "      <td>0.63</td>\n",
       "    </tr>\n",
       "    <tr>\n",
       "      <th>gpt_4.1_mini</th>\n",
       "      <td>bsrdel</td>\n",
       "      <td>3.34</td>\n",
       "      <td>0.56</td>\n",
       "    </tr>\n",
       "    <tr>\n",
       "      <th>qwen_32b_instruct</th>\n",
       "      <td>bsrd</td>\n",
       "      <td>3.37</td>\n",
       "      <td>0.45</td>\n",
       "    </tr>\n",
       "    <tr>\n",
       "      <th>olmo_13b_dpo</th>\n",
       "      <td>bsrdel</td>\n",
       "      <td>3.37</td>\n",
       "      <td>0.45</td>\n",
       "    </tr>\n",
       "    <tr>\n",
       "      <th>gemini_2_flash</th>\n",
       "      <td>bsrdel</td>\n",
       "      <td>3.43</td>\n",
       "      <td>0.50</td>\n",
       "    </tr>\n",
       "    <tr>\n",
       "      <th>llama3_70b_instruct</th>\n",
       "      <td>bsrdel</td>\n",
       "      <td>3.45</td>\n",
       "      <td>0.59</td>\n",
       "    </tr>\n",
       "    <tr>\n",
       "      <th>olmo_13b</th>\n",
       "      <td>bsrdel</td>\n",
       "      <td>3.45</td>\n",
       "      <td>0.46</td>\n",
       "    </tr>\n",
       "    <tr>\n",
       "      <th>mixtral_8x7b</th>\n",
       "      <td>bsrdel</td>\n",
       "      <td>3.54</td>\n",
       "      <td>0.50</td>\n",
       "    </tr>\n",
       "    <tr>\n",
       "      <th>mistral_7b_instr</th>\n",
       "      <td>bsrdel</td>\n",
       "      <td>3.59</td>\n",
       "      <td>0.52</td>\n",
       "    </tr>\n",
       "    <tr>\n",
       "      <th>claude_37_sonnet</th>\n",
       "      <td>bsrdel</td>\n",
       "      <td>3.64</td>\n",
       "      <td>0.47</td>\n",
       "    </tr>\n",
       "  </tbody>\n",
       "</table>\n",
       "</div>"
      ],
      "text/plain": [
       "                    setting   avg   std\n",
       "model                                  \n",
       "olmo_13b_sft         bsrdel  2.92  0.65\n",
       "deepseek_llama_70b   bsrdel  2.99  0.60\n",
       "deepseek_qwen_32b    bsrdel  3.00  0.62\n",
       "qwen_7b_instruct     bsrdel  3.01  0.74\n",
       "mistral_small_24b    bsrdel  3.02  0.56\n",
       "deepseek_qwen_7b     bsrdel  3.11  0.89\n",
       "olmo_7b              bsrdel  3.12  0.41\n",
       "llama3_8b_instr      bsrdel  3.16  0.74\n",
       "qwen_72b_instruct     bsrde  3.18  0.45\n",
       "deepseek_v3          bsrdel  3.22  0.49\n",
       "gpt_4.1              bsrdel  3.25  0.66\n",
       "deepseek_r1          bsrdel  3.26  0.56\n",
       "claude_3_haiku       bsrdel  3.30  0.63\n",
       "gpt_4.1_mini         bsrdel  3.34  0.56\n",
       "qwen_32b_instruct      bsrd  3.37  0.45\n",
       "olmo_13b_dpo         bsrdel  3.37  0.45\n",
       "gemini_2_flash       bsrdel  3.43  0.50\n",
       "llama3_70b_instruct  bsrdel  3.45  0.59\n",
       "olmo_13b             bsrdel  3.45  0.46\n",
       "mixtral_8x7b         bsrdel  3.54  0.50\n",
       "mistral_7b_instr     bsrdel  3.59  0.52\n",
       "claude_37_sonnet     bsrdel  3.64  0.47"
      ]
     },
     "execution_count": 17,
     "metadata": {},
     "output_type": "execute_result"
    }
   ],
   "source": [
    "combined_df.query('setting not in [\"nc\", \"nn\"]').groupby(\"model\").agg(\"max\").sort_values(by = 'avg')"
   ]
  },
  {
   "cell_type": "code",
   "execution_count": 18,
   "id": "5e23e89b-0cc7-4756-82f6-14f632a59273",
   "metadata": {
    "tags": []
   },
   "outputs": [],
   "source": [
    "all_avg = {}\n",
    "all_std = {}\n",
    "for i, row in combined_df.iterrows():\n",
    "    if row['model'] not in all_avg:\n",
    "        all_avg[row['model']] = {\n",
    "            'model': row['model'],\n",
    "            row['setting']: row['avg']\n",
    "        }\n",
    "        all_std[row['model']] = {\n",
    "            'model': row['model'],\n",
    "            row['setting']: row['std']\n",
    "        }\n",
    "    else:\n",
    "        all_avg[row['model']][row['setting']] = row['avg']\n",
    "        all_std[row['model']][row['setting']] = row['std']"
   ]
  },
  {
   "cell_type": "code",
   "execution_count": 19,
   "id": "8357531f-0323-4b49-9ad7-2047c6cc0a51",
   "metadata": {
    "tags": []
   },
   "outputs": [
    {
     "data": {
      "text/html": [
       "<div>\n",
       "<style scoped>\n",
       "    .dataframe tbody tr th:only-of-type {\n",
       "        vertical-align: middle;\n",
       "    }\n",
       "\n",
       "    .dataframe tbody tr th {\n",
       "        vertical-align: top;\n",
       "    }\n",
       "\n",
       "    .dataframe thead th {\n",
       "        text-align: right;\n",
       "    }\n",
       "</style>\n",
       "<table border=\"1\" class=\"dataframe\">\n",
       "  <thead>\n",
       "    <tr style=\"text-align: right;\">\n",
       "      <th></th>\n",
       "      <th>model</th>\n",
       "      <th>nc</th>\n",
       "      <th>nn</th>\n",
       "      <th>bs</th>\n",
       "      <th>bsr</th>\n",
       "      <th>bsrd</th>\n",
       "      <th>bsrde</th>\n",
       "      <th>bsrdel</th>\n",
       "      <th>bs_best</th>\n",
       "    </tr>\n",
       "  </thead>\n",
       "  <tbody>\n",
       "    <tr>\n",
       "      <th>0</th>\n",
       "      <td>olmo_13b_dpo</td>\n",
       "      <td>0.4575</td>\n",
       "      <td>0.2600</td>\n",
       "      <td>3.08</td>\n",
       "      <td>3.19</td>\n",
       "      <td>3.37</td>\n",
       "      <td>3.35</td>\n",
       "      <td>3.30</td>\n",
       "      <td>0.5925</td>\n",
       "    </tr>\n",
       "    <tr>\n",
       "      <th>1</th>\n",
       "      <td>claude_37_sonnet</td>\n",
       "      <td>0.5150</td>\n",
       "      <td>0.3075</td>\n",
       "      <td>3.04</td>\n",
       "      <td>3.13</td>\n",
       "      <td>3.40</td>\n",
       "      <td>3.37</td>\n",
       "      <td>3.64</td>\n",
       "      <td>0.6600</td>\n",
       "    </tr>\n",
       "    <tr>\n",
       "      <th>2</th>\n",
       "      <td>deepseek_llama_70b</td>\n",
       "      <td>0.4325</td>\n",
       "      <td>0.3225</td>\n",
       "      <td>2.99</td>\n",
       "      <td>2.73</td>\n",
       "      <td>2.81</td>\n",
       "      <td>2.80</td>\n",
       "      <td>2.95</td>\n",
       "      <td>0.4975</td>\n",
       "    </tr>\n",
       "    <tr>\n",
       "      <th>3</th>\n",
       "      <td>qwen_72b_instruct</td>\n",
       "      <td>0.4875</td>\n",
       "      <td>0.3675</td>\n",
       "      <td>2.94</td>\n",
       "      <td>3.18</td>\n",
       "      <td>NaN</td>\n",
       "      <td>2.55</td>\n",
       "      <td>NaN</td>\n",
       "      <td>0.5450</td>\n",
       "    </tr>\n",
       "    <tr>\n",
       "      <th>4</th>\n",
       "      <td>qwen_7b_instruct</td>\n",
       "      <td>0.4450</td>\n",
       "      <td>0.3550</td>\n",
       "      <td>3.00</td>\n",
       "      <td>2.85</td>\n",
       "      <td>2.95</td>\n",
       "      <td>2.87</td>\n",
       "      <td>3.01</td>\n",
       "      <td>0.5025</td>\n",
       "    </tr>\n",
       "    <tr>\n",
       "      <th>5</th>\n",
       "      <td>mistral_7b_instr</td>\n",
       "      <td>0.4950</td>\n",
       "      <td>0.3175</td>\n",
       "      <td>3.13</td>\n",
       "      <td>3.43</td>\n",
       "      <td>3.59</td>\n",
       "      <td>3.52</td>\n",
       "      <td>3.10</td>\n",
       "      <td>0.6475</td>\n",
       "    </tr>\n",
       "    <tr>\n",
       "      <th>6</th>\n",
       "      <td>olmo_13b</td>\n",
       "      <td>0.4425</td>\n",
       "      <td>0.3600</td>\n",
       "      <td>3.00</td>\n",
       "      <td>3.13</td>\n",
       "      <td>3.35</td>\n",
       "      <td>3.28</td>\n",
       "      <td>3.45</td>\n",
       "      <td>0.6125</td>\n",
       "    </tr>\n",
       "    <tr>\n",
       "      <th>7</th>\n",
       "      <td>llama3_8b_instr</td>\n",
       "      <td>0.4925</td>\n",
       "      <td>0.2975</td>\n",
       "      <td>2.95</td>\n",
       "      <td>3.16</td>\n",
       "      <td>2.86</td>\n",
       "      <td>3.03</td>\n",
       "      <td>3.10</td>\n",
       "      <td>0.5400</td>\n",
       "    </tr>\n",
       "    <tr>\n",
       "      <th>8</th>\n",
       "      <td>gemini_2_flash</td>\n",
       "      <td>0.5025</td>\n",
       "      <td>0.3100</td>\n",
       "      <td>3.18</td>\n",
       "      <td>3.24</td>\n",
       "      <td>3.43</td>\n",
       "      <td>3.26</td>\n",
       "      <td>3.40</td>\n",
       "      <td>0.6075</td>\n",
       "    </tr>\n",
       "    <tr>\n",
       "      <th>9</th>\n",
       "      <td>gpt_4.1</td>\n",
       "      <td>0.5000</td>\n",
       "      <td>0.2775</td>\n",
       "      <td>2.72</td>\n",
       "      <td>3.11</td>\n",
       "      <td>3.22</td>\n",
       "      <td>3.25</td>\n",
       "      <td>3.14</td>\n",
       "      <td>0.5625</td>\n",
       "    </tr>\n",
       "    <tr>\n",
       "      <th>10</th>\n",
       "      <td>deepseek_r1</td>\n",
       "      <td>0.4700</td>\n",
       "      <td>0.2950</td>\n",
       "      <td>3.04</td>\n",
       "      <td>3.11</td>\n",
       "      <td>3.20</td>\n",
       "      <td>3.13</td>\n",
       "      <td>3.26</td>\n",
       "      <td>0.5650</td>\n",
       "    </tr>\n",
       "    <tr>\n",
       "      <th>11</th>\n",
       "      <td>deepseek_v3</td>\n",
       "      <td>0.4700</td>\n",
       "      <td>0.2600</td>\n",
       "      <td>2.91</td>\n",
       "      <td>3.02</td>\n",
       "      <td>3.12</td>\n",
       "      <td>3.07</td>\n",
       "      <td>3.22</td>\n",
       "      <td>0.5550</td>\n",
       "    </tr>\n",
       "    <tr>\n",
       "      <th>12</th>\n",
       "      <td>mixtral_8x7b</td>\n",
       "      <td>0.4800</td>\n",
       "      <td>0.3275</td>\n",
       "      <td>2.98</td>\n",
       "      <td>3.15</td>\n",
       "      <td>3.31</td>\n",
       "      <td>3.54</td>\n",
       "      <td>3.53</td>\n",
       "      <td>0.6350</td>\n",
       "    </tr>\n",
       "    <tr>\n",
       "      <th>13</th>\n",
       "      <td>qwen_32b_instruct</td>\n",
       "      <td>0.5075</td>\n",
       "      <td>0.3825</td>\n",
       "      <td>3.06</td>\n",
       "      <td>3.28</td>\n",
       "      <td>3.37</td>\n",
       "      <td>NaN</td>\n",
       "      <td>NaN</td>\n",
       "      <td>0.5925</td>\n",
       "    </tr>\n",
       "    <tr>\n",
       "      <th>14</th>\n",
       "      <td>olmo_7b</td>\n",
       "      <td>0.4275</td>\n",
       "      <td>0.2950</td>\n",
       "      <td>2.77</td>\n",
       "      <td>3.00</td>\n",
       "      <td>2.96</td>\n",
       "      <td>2.97</td>\n",
       "      <td>3.12</td>\n",
       "      <td>0.5300</td>\n",
       "    </tr>\n",
       "    <tr>\n",
       "      <th>15</th>\n",
       "      <td>llama3_70b_instruct</td>\n",
       "      <td>0.3800</td>\n",
       "      <td>0.2825</td>\n",
       "      <td>2.71</td>\n",
       "      <td>2.87</td>\n",
       "      <td>3.08</td>\n",
       "      <td>3.45</td>\n",
       "      <td>3.11</td>\n",
       "      <td>0.6125</td>\n",
       "    </tr>\n",
       "    <tr>\n",
       "      <th>16</th>\n",
       "      <td>deepseek_qwen_32b</td>\n",
       "      <td>0.4575</td>\n",
       "      <td>0.3075</td>\n",
       "      <td>2.73</td>\n",
       "      <td>2.97</td>\n",
       "      <td>2.89</td>\n",
       "      <td>2.92</td>\n",
       "      <td>3.00</td>\n",
       "      <td>0.5000</td>\n",
       "    </tr>\n",
       "    <tr>\n",
       "      <th>17</th>\n",
       "      <td>mistral_small_24b</td>\n",
       "      <td>0.4450</td>\n",
       "      <td>0.3525</td>\n",
       "      <td>2.82</td>\n",
       "      <td>2.80</td>\n",
       "      <td>3.02</td>\n",
       "      <td>2.51</td>\n",
       "      <td>2.86</td>\n",
       "      <td>0.5050</td>\n",
       "    </tr>\n",
       "    <tr>\n",
       "      <th>18</th>\n",
       "      <td>claude_3_haiku</td>\n",
       "      <td>0.4475</td>\n",
       "      <td>0.2775</td>\n",
       "      <td>2.79</td>\n",
       "      <td>3.02</td>\n",
       "      <td>2.94</td>\n",
       "      <td>3.24</td>\n",
       "      <td>3.30</td>\n",
       "      <td>0.5750</td>\n",
       "    </tr>\n",
       "    <tr>\n",
       "      <th>19</th>\n",
       "      <td>olmo_13b_sft</td>\n",
       "      <td>0.4125</td>\n",
       "      <td>0.2225</td>\n",
       "      <td>2.92</td>\n",
       "      <td>2.83</td>\n",
       "      <td>2.62</td>\n",
       "      <td>2.81</td>\n",
       "      <td>2.72</td>\n",
       "      <td>0.4800</td>\n",
       "    </tr>\n",
       "    <tr>\n",
       "      <th>20</th>\n",
       "      <td>gpt_4.1_mini</td>\n",
       "      <td>0.4625</td>\n",
       "      <td>0.2875</td>\n",
       "      <td>3.01</td>\n",
       "      <td>3.00</td>\n",
       "      <td>3.30</td>\n",
       "      <td>3.34</td>\n",
       "      <td>3.16</td>\n",
       "      <td>0.5850</td>\n",
       "    </tr>\n",
       "    <tr>\n",
       "      <th>21</th>\n",
       "      <td>deepseek_qwen_7b</td>\n",
       "      <td>0.3375</td>\n",
       "      <td>0.2450</td>\n",
       "      <td>3.11</td>\n",
       "      <td>2.73</td>\n",
       "      <td>2.80</td>\n",
       "      <td>3.04</td>\n",
       "      <td>2.71</td>\n",
       "      <td>0.5275</td>\n",
       "    </tr>\n",
       "  </tbody>\n",
       "</table>\n",
       "</div>"
      ],
      "text/plain": [
       "                  model      nc      nn    bs   bsr  bsrd  bsrde  bsrdel  \\\n",
       "0          olmo_13b_dpo  0.4575  0.2600  3.08  3.19  3.37   3.35    3.30   \n",
       "1      claude_37_sonnet  0.5150  0.3075  3.04  3.13  3.40   3.37    3.64   \n",
       "2    deepseek_llama_70b  0.4325  0.3225  2.99  2.73  2.81   2.80    2.95   \n",
       "3     qwen_72b_instruct  0.4875  0.3675  2.94  3.18   NaN   2.55     NaN   \n",
       "4      qwen_7b_instruct  0.4450  0.3550  3.00  2.85  2.95   2.87    3.01   \n",
       "5      mistral_7b_instr  0.4950  0.3175  3.13  3.43  3.59   3.52    3.10   \n",
       "6              olmo_13b  0.4425  0.3600  3.00  3.13  3.35   3.28    3.45   \n",
       "7       llama3_8b_instr  0.4925  0.2975  2.95  3.16  2.86   3.03    3.10   \n",
       "8        gemini_2_flash  0.5025  0.3100  3.18  3.24  3.43   3.26    3.40   \n",
       "9               gpt_4.1  0.5000  0.2775  2.72  3.11  3.22   3.25    3.14   \n",
       "10          deepseek_r1  0.4700  0.2950  3.04  3.11  3.20   3.13    3.26   \n",
       "11          deepseek_v3  0.4700  0.2600  2.91  3.02  3.12   3.07    3.22   \n",
       "12         mixtral_8x7b  0.4800  0.3275  2.98  3.15  3.31   3.54    3.53   \n",
       "13    qwen_32b_instruct  0.5075  0.3825  3.06  3.28  3.37    NaN     NaN   \n",
       "14              olmo_7b  0.4275  0.2950  2.77  3.00  2.96   2.97    3.12   \n",
       "15  llama3_70b_instruct  0.3800  0.2825  2.71  2.87  3.08   3.45    3.11   \n",
       "16    deepseek_qwen_32b  0.4575  0.3075  2.73  2.97  2.89   2.92    3.00   \n",
       "17    mistral_small_24b  0.4450  0.3525  2.82  2.80  3.02   2.51    2.86   \n",
       "18       claude_3_haiku  0.4475  0.2775  2.79  3.02  2.94   3.24    3.30   \n",
       "19         olmo_13b_sft  0.4125  0.2225  2.92  2.83  2.62   2.81    2.72   \n",
       "20         gpt_4.1_mini  0.4625  0.2875  3.01  3.00  3.30   3.34    3.16   \n",
       "21     deepseek_qwen_7b  0.3375  0.2450  3.11  2.73  2.80   3.04    2.71   \n",
       "\n",
       "    bs_best  \n",
       "0    0.5925  \n",
       "1    0.6600  \n",
       "2    0.4975  \n",
       "3    0.5450  \n",
       "4    0.5025  \n",
       "5    0.6475  \n",
       "6    0.6125  \n",
       "7    0.5400  \n",
       "8    0.6075  \n",
       "9    0.5625  \n",
       "10   0.5650  \n",
       "11   0.5550  \n",
       "12   0.6350  \n",
       "13   0.5925  \n",
       "14   0.5300  \n",
       "15   0.6125  \n",
       "16   0.5000  \n",
       "17   0.5050  \n",
       "18   0.5750  \n",
       "19   0.4800  \n",
       "20   0.5850  \n",
       "21   0.5275  "
      ]
     },
     "execution_count": 19,
     "metadata": {},
     "output_type": "execute_result"
    }
   ],
   "source": [
    "summary_aut_df = pd.DataFrame(list(all_avg.values()))\n",
    "\n",
    "def norm_aut(score):\n",
    "    return round((score -1 ) / 4, 4)\n",
    "\n",
    "def get_best(row):\n",
    "    tmp_scores = []\n",
    "    for col in row.index:\n",
    "        if 'bs' in col:\n",
    "            tmp_scores.append(row[col])\n",
    "    return norm_aut(max(tmp_scores))\n",
    "\n",
    "summary_aut_df['bs_best'] = summary_aut_df.apply(get_best, axis = 1)\n",
    "summary_aut_df['nc'] = summary_aut_df['nc'].apply(lambda x: norm_aut(x))\n",
    "summary_aut_df['nn'] = summary_aut_df['nn'].apply(lambda x: norm_aut(x))\n",
    "summary_aut_df"
   ]
  },
  {
   "cell_type": "code",
   "execution_count": 20,
   "id": "b32dfafb-aac2-4813-8d35-9b990a51f8c8",
   "metadata": {
    "tags": []
   },
   "outputs": [],
   "source": [
    "summary_aut_df.to_csv('../results/summary_{}.csv'.format(batch_id), index = False)\n",
    "# pd.DataFrame(list(all_std.values())).to_csv(output_dir + 'std_summary.csv', index = False)"
   ]
  },
  {
   "cell_type": "code",
   "execution_count": null,
   "id": "54635d42-b26d-4ff9-a1b4-e64df50a5822",
   "metadata": {},
   "outputs": [],
   "source": []
  },
  {
   "cell_type": "code",
   "execution_count": null,
   "id": "6e6a35bc-2bfc-4967-9f2f-abb62b49f460",
   "metadata": {},
   "outputs": [],
   "source": []
  }
 ],
 "metadata": {
  "kernelspec": {
   "display_name": "Python 3 (ipykernel)",
   "language": "python",
   "name": "python3"
  },
  "language_info": {
   "codemirror_mode": {
    "name": "ipython",
    "version": 3
   },
   "file_extension": ".py",
   "mimetype": "text/x-python",
   "name": "python",
   "nbconvert_exporter": "python",
   "pygments_lexer": "ipython3",
   "version": "3.10.8"
  }
 },
 "nbformat": 4,
 "nbformat_minor": 5
}
